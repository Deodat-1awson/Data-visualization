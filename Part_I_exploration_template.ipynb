{
 "cells": [
  {
   "cell_type": "markdown",
   "metadata": {},
   "source": [
    "# Part I - (Ford go bike dataset analysis )\n",
    "## by (abdulaziz alomar)\n",
    "\n",
    "## Introduction\n",
    "The Bay Area's bike sharing program is called Ford GoBike. A pilot program for the area called Bay Area Bike Share debuted in 2019 and features 700 bikes and 70 stations around San Francisco and San Jose. Ford GoBike will have 7,000 bikes available in San Francisco, the East Bay, and San Jose after the expansion is finished.\n",
    "\n",
    "\n",
    "\n",
    "## Preliminary Wrangling\n"
   ]
  },
  {
   "cell_type": "code",
   "execution_count": 1,
   "metadata": {},
   "outputs": [],
   "source": [
    "# import all packages and set plots to be embedded inline\n",
    "import numpy as np\n",
    "import pandas as pd\n",
    "import matplotlib.pyplot as plt\n",
    "import seaborn as sb\n",
    "\n",
    "%matplotlib inline"
   ]
  },
  {
   "cell_type": "markdown",
   "metadata": {},
   "source": [
    "> Load in your dataset and describe its properties through the questions below. Try and motivate your exploration goals through this section.\n"
   ]
  },
  {
   "cell_type": "code",
   "execution_count": 2,
   "metadata": {},
   "outputs": [
    {
     "data": {
      "text/html": [
       "<div>\n",
       "<style scoped>\n",
       "    .dataframe tbody tr th:only-of-type {\n",
       "        vertical-align: middle;\n",
       "    }\n",
       "\n",
       "    .dataframe tbody tr th {\n",
       "        vertical-align: top;\n",
       "    }\n",
       "\n",
       "    .dataframe thead th {\n",
       "        text-align: right;\n",
       "    }\n",
       "</style>\n",
       "<table border=\"1\" class=\"dataframe\">\n",
       "  <thead>\n",
       "    <tr style=\"text-align: right;\">\n",
       "      <th></th>\n",
       "      <th>duration_sec</th>\n",
       "      <th>start_time</th>\n",
       "      <th>end_time</th>\n",
       "      <th>start_station_id</th>\n",
       "      <th>start_station_name</th>\n",
       "      <th>start_station_latitude</th>\n",
       "      <th>start_station_longitude</th>\n",
       "      <th>end_station_id</th>\n",
       "      <th>end_station_name</th>\n",
       "      <th>end_station_latitude</th>\n",
       "      <th>end_station_longitude</th>\n",
       "      <th>bike_id</th>\n",
       "      <th>user_type</th>\n",
       "      <th>member_birth_year</th>\n",
       "      <th>member_gender</th>\n",
       "      <th>bike_share_for_all_trip</th>\n",
       "    </tr>\n",
       "  </thead>\n",
       "  <tbody>\n",
       "    <tr>\n",
       "      <th>0</th>\n",
       "      <td>52185</td>\n",
       "      <td>2019-02-28 17:32:10.1450</td>\n",
       "      <td>2019-03-01 08:01:55.9750</td>\n",
       "      <td>21.0</td>\n",
       "      <td>Montgomery St BART Station (Market St at 2nd St)</td>\n",
       "      <td>37.789625</td>\n",
       "      <td>-122.400811</td>\n",
       "      <td>13.0</td>\n",
       "      <td>Commercial St at Montgomery St</td>\n",
       "      <td>37.794231</td>\n",
       "      <td>-122.402923</td>\n",
       "      <td>4902</td>\n",
       "      <td>Customer</td>\n",
       "      <td>1984.0</td>\n",
       "      <td>Male</td>\n",
       "      <td>No</td>\n",
       "    </tr>\n",
       "    <tr>\n",
       "      <th>1</th>\n",
       "      <td>42521</td>\n",
       "      <td>2019-02-28 18:53:21.7890</td>\n",
       "      <td>2019-03-01 06:42:03.0560</td>\n",
       "      <td>23.0</td>\n",
       "      <td>The Embarcadero at Steuart St</td>\n",
       "      <td>37.791464</td>\n",
       "      <td>-122.391034</td>\n",
       "      <td>81.0</td>\n",
       "      <td>Berry St at 4th St</td>\n",
       "      <td>37.775880</td>\n",
       "      <td>-122.393170</td>\n",
       "      <td>2535</td>\n",
       "      <td>Customer</td>\n",
       "      <td>NaN</td>\n",
       "      <td>NaN</td>\n",
       "      <td>No</td>\n",
       "    </tr>\n",
       "    <tr>\n",
       "      <th>2</th>\n",
       "      <td>61854</td>\n",
       "      <td>2019-02-28 12:13:13.2180</td>\n",
       "      <td>2019-03-01 05:24:08.1460</td>\n",
       "      <td>86.0</td>\n",
       "      <td>Market St at Dolores St</td>\n",
       "      <td>37.769305</td>\n",
       "      <td>-122.426826</td>\n",
       "      <td>3.0</td>\n",
       "      <td>Powell St BART Station (Market St at 4th St)</td>\n",
       "      <td>37.786375</td>\n",
       "      <td>-122.404904</td>\n",
       "      <td>5905</td>\n",
       "      <td>Customer</td>\n",
       "      <td>1972.0</td>\n",
       "      <td>Male</td>\n",
       "      <td>No</td>\n",
       "    </tr>\n",
       "    <tr>\n",
       "      <th>3</th>\n",
       "      <td>36490</td>\n",
       "      <td>2019-02-28 17:54:26.0100</td>\n",
       "      <td>2019-03-01 04:02:36.8420</td>\n",
       "      <td>375.0</td>\n",
       "      <td>Grove St at Masonic Ave</td>\n",
       "      <td>37.774836</td>\n",
       "      <td>-122.446546</td>\n",
       "      <td>70.0</td>\n",
       "      <td>Central Ave at Fell St</td>\n",
       "      <td>37.773311</td>\n",
       "      <td>-122.444293</td>\n",
       "      <td>6638</td>\n",
       "      <td>Subscriber</td>\n",
       "      <td>1989.0</td>\n",
       "      <td>Other</td>\n",
       "      <td>No</td>\n",
       "    </tr>\n",
       "    <tr>\n",
       "      <th>4</th>\n",
       "      <td>1585</td>\n",
       "      <td>2019-02-28 23:54:18.5490</td>\n",
       "      <td>2019-03-01 00:20:44.0740</td>\n",
       "      <td>7.0</td>\n",
       "      <td>Frank H Ogawa Plaza</td>\n",
       "      <td>37.804562</td>\n",
       "      <td>-122.271738</td>\n",
       "      <td>222.0</td>\n",
       "      <td>10th Ave at E 15th St</td>\n",
       "      <td>37.792714</td>\n",
       "      <td>-122.248780</td>\n",
       "      <td>4898</td>\n",
       "      <td>Subscriber</td>\n",
       "      <td>1974.0</td>\n",
       "      <td>Male</td>\n",
       "      <td>Yes</td>\n",
       "    </tr>\n",
       "  </tbody>\n",
       "</table>\n",
       "</div>"
      ],
      "text/plain": [
       "   duration_sec                start_time                  end_time  \\\n",
       "0         52185  2019-02-28 17:32:10.1450  2019-03-01 08:01:55.9750   \n",
       "1         42521  2019-02-28 18:53:21.7890  2019-03-01 06:42:03.0560   \n",
       "2         61854  2019-02-28 12:13:13.2180  2019-03-01 05:24:08.1460   \n",
       "3         36490  2019-02-28 17:54:26.0100  2019-03-01 04:02:36.8420   \n",
       "4          1585  2019-02-28 23:54:18.5490  2019-03-01 00:20:44.0740   \n",
       "\n",
       "   start_station_id                                start_station_name  \\\n",
       "0              21.0  Montgomery St BART Station (Market St at 2nd St)   \n",
       "1              23.0                     The Embarcadero at Steuart St   \n",
       "2              86.0                           Market St at Dolores St   \n",
       "3             375.0                           Grove St at Masonic Ave   \n",
       "4               7.0                               Frank H Ogawa Plaza   \n",
       "\n",
       "   start_station_latitude  start_station_longitude  end_station_id  \\\n",
       "0               37.789625              -122.400811            13.0   \n",
       "1               37.791464              -122.391034            81.0   \n",
       "2               37.769305              -122.426826             3.0   \n",
       "3               37.774836              -122.446546            70.0   \n",
       "4               37.804562              -122.271738           222.0   \n",
       "\n",
       "                               end_station_name  end_station_latitude  \\\n",
       "0                Commercial St at Montgomery St             37.794231   \n",
       "1                            Berry St at 4th St             37.775880   \n",
       "2  Powell St BART Station (Market St at 4th St)             37.786375   \n",
       "3                        Central Ave at Fell St             37.773311   \n",
       "4                         10th Ave at E 15th St             37.792714   \n",
       "\n",
       "   end_station_longitude  bike_id   user_type  member_birth_year  \\\n",
       "0            -122.402923     4902    Customer             1984.0   \n",
       "1            -122.393170     2535    Customer                NaN   \n",
       "2            -122.404904     5905    Customer             1972.0   \n",
       "3            -122.444293     6638  Subscriber             1989.0   \n",
       "4            -122.248780     4898  Subscriber             1974.0   \n",
       "\n",
       "  member_gender bike_share_for_all_trip  \n",
       "0          Male                      No  \n",
       "1           NaN                      No  \n",
       "2          Male                      No  \n",
       "3         Other                      No  \n",
       "4          Male                     Yes  "
      ]
     },
     "execution_count": 2,
     "metadata": {},
     "output_type": "execute_result"
    }
   ],
   "source": [
    "df= pd.read_csv('201902-fordgobike-tripdata.csv')\n",
    "df.head()"
   ]
  },
  {
   "cell_type": "code",
   "execution_count": 3,
   "metadata": {},
   "outputs": [
    {
     "data": {
      "text/plain": [
       "(183412, 16)"
      ]
     },
     "execution_count": 3,
     "metadata": {},
     "output_type": "execute_result"
    }
   ],
   "source": [
    "df.shape"
   ]
  },
  {
   "cell_type": "code",
   "execution_count": 4,
   "metadata": {},
   "outputs": [
    {
     "data": {
      "text/plain": [
       "<bound method DataFrame.info of         duration_sec                start_time                  end_time  \\\n",
       "0              52185  2019-02-28 17:32:10.1450  2019-03-01 08:01:55.9750   \n",
       "1              42521  2019-02-28 18:53:21.7890  2019-03-01 06:42:03.0560   \n",
       "2              61854  2019-02-28 12:13:13.2180  2019-03-01 05:24:08.1460   \n",
       "3              36490  2019-02-28 17:54:26.0100  2019-03-01 04:02:36.8420   \n",
       "4               1585  2019-02-28 23:54:18.5490  2019-03-01 00:20:44.0740   \n",
       "5               1793  2019-02-28 23:49:58.6320  2019-03-01 00:19:51.7600   \n",
       "6               1147  2019-02-28 23:55:35.1040  2019-03-01 00:14:42.5880   \n",
       "7               1615  2019-02-28 23:41:06.7660  2019-03-01 00:08:02.7560   \n",
       "8               1570  2019-02-28 23:41:48.7900  2019-03-01 00:07:59.7150   \n",
       "9               1049  2019-02-28 23:49:47.6990  2019-03-01 00:07:17.0250   \n",
       "10               458  2019-02-28 23:57:57.2110  2019-03-01 00:05:35.4350   \n",
       "11               506  2019-02-28 23:56:55.5400  2019-03-01 00:05:21.7330   \n",
       "12              1176  2019-02-28 23:45:12.6510  2019-03-01 00:04:49.1840   \n",
       "13               915  2019-02-28 23:49:06.0620  2019-03-01 00:04:21.8670   \n",
       "14               395  2019-02-28 23:56:26.8480  2019-03-01 00:03:01.9470   \n",
       "15               208  2019-02-28 23:59:18.5480  2019-03-01 00:02:47.2280   \n",
       "16               548  2019-02-28 23:50:41.6070  2019-02-28 23:59:49.9530   \n",
       "17               674  2019-02-28 23:48:25.0950  2019-02-28 23:59:40.0920   \n",
       "18               557  2019-02-28 23:49:01.8510  2019-02-28 23:58:19.8090   \n",
       "19               874  2019-02-28 23:43:05.1830  2019-02-28 23:57:39.7960   \n",
       "20               417  2019-02-28 23:50:38.2390  2019-02-28 23:57:35.8520   \n",
       "21               414  2019-02-28 23:50:26.8790  2019-02-28 23:57:21.1300   \n",
       "22               743  2019-02-28 23:44:56.4390  2019-02-28 23:57:20.2120   \n",
       "23               367  2019-02-28 23:51:06.0140  2019-02-28 23:57:13.3120   \n",
       "24               252  2019-02-28 23:52:51.1640  2019-02-28 23:57:03.9760   \n",
       "25               360  2019-02-28 23:50:31.4310  2019-02-28 23:56:31.8910   \n",
       "26               385  2019-02-28 23:49:24.3990  2019-02-28 23:55:50.2840   \n",
       "27               408  2019-02-28 23:48:08.2820  2019-02-28 23:54:56.9300   \n",
       "28               650  2019-02-28 23:43:27.5030  2019-02-28 23:54:18.4510   \n",
       "29               629  2019-02-28 23:43:48.6580  2019-02-28 23:54:18.2540   \n",
       "...              ...                       ...                       ...   \n",
       "183382           961  2019-02-01 00:38:29.9040  2019-02-01 00:54:31.7320   \n",
       "183383           434  2019-02-01 00:47:11.6530  2019-02-01 00:54:26.3050   \n",
       "183384           184  2019-02-01 00:50:41.5790  2019-02-01 00:53:46.1240   \n",
       "183385           400  2019-02-01 00:46:47.2760  2019-02-01 00:53:27.5960   \n",
       "183386           425  2019-02-01 00:42:20.4720  2019-02-01 00:49:25.5150   \n",
       "183387           598  2019-02-01 00:39:12.6840  2019-02-01 00:49:10.7910   \n",
       "183388           490  2019-02-01 00:39:53.1120  2019-02-01 00:48:03.3380   \n",
       "183389           184  2019-02-01 00:43:56.5560  2019-02-01 00:47:01.0090   \n",
       "183390           232  2019-02-01 00:40:00.0350  2019-02-01 00:43:52.8800   \n",
       "183391           269  2019-02-01 00:37:47.5270  2019-02-01 00:42:17.0600   \n",
       "183392          1289  2019-02-01 00:19:45.6410  2019-02-01 00:41:15.5580   \n",
       "183393           155  2019-02-01 00:37:26.3680  2019-02-01 00:40:01.5760   \n",
       "183394           720  2019-02-01 00:27:33.8340  2019-02-01 00:39:34.2330   \n",
       "183395            95  2019-02-01 00:37:23.1150  2019-02-01 00:38:58.3460   \n",
       "183396           576  2019-02-01 00:27:06.5030  2019-02-01 00:36:43.4520   \n",
       "183397           438  2019-02-01 00:28:56.1010  2019-02-01 00:36:14.5340   \n",
       "183398          1019  2019-02-01 00:16:59.1550  2019-02-01 00:33:58.5900   \n",
       "183399           958  2019-02-01 00:12:24.2470  2019-02-01 00:28:22.7380   \n",
       "183400           250  2019-02-01 00:23:52.6110  2019-02-01 00:28:02.6790   \n",
       "183401           383  2019-02-01 00:16:48.0620  2019-02-01 00:23:11.2010   \n",
       "183402           122  2019-02-01 00:17:32.2580  2019-02-01 00:19:34.9380   \n",
       "183403           249  2019-02-01 00:15:12.0670  2019-02-01 00:19:21.6990   \n",
       "183404           256  2019-02-01 00:12:50.5540  2019-02-01 00:17:07.3620   \n",
       "183405           111  2019-02-01 00:14:49.8740  2019-02-01 00:16:41.3010   \n",
       "183406           706  2019-02-01 00:04:40.6160  2019-02-01 00:16:27.0800   \n",
       "183407           480  2019-02-01 00:04:49.7240  2019-02-01 00:12:50.0340   \n",
       "183408           313  2019-02-01 00:05:34.7440  2019-02-01 00:10:48.5020   \n",
       "183409           141  2019-02-01 00:06:05.5490  2019-02-01 00:08:27.2200   \n",
       "183410           139  2019-02-01 00:05:34.3600  2019-02-01 00:07:54.2870   \n",
       "183411           271  2019-02-01 00:00:20.6360  2019-02-01 00:04:52.0580   \n",
       "\n",
       "        start_station_id                                 start_station_name  \\\n",
       "0                   21.0   Montgomery St BART Station (Market St at 2nd St)   \n",
       "1                   23.0                      The Embarcadero at Steuart St   \n",
       "2                   86.0                            Market St at Dolores St   \n",
       "3                  375.0                            Grove St at Masonic Ave   \n",
       "4                    7.0                                Frank H Ogawa Plaza   \n",
       "5                   93.0                       4th St at Mission Bay Blvd S   \n",
       "6                  300.0                               Palm St at Willow St   \n",
       "7                   10.0                         Washington St at Kearny St   \n",
       "8                   10.0                         Washington St at Kearny St   \n",
       "9                   19.0                               Post St at Kearny St   \n",
       "10                 370.0                                Jones St at Post St   \n",
       "11                  44.0  Civic Center/UN Plaza BART Station (Market St ...   \n",
       "12                 127.0                             Valencia St at 21st St   \n",
       "13                 252.0                       Channing Way at Shattuck Ave   \n",
       "14                 243.0                        Bancroft Way at College Ave   \n",
       "15                 349.0                               Howard St at Mary St   \n",
       "16                 131.0                              22nd St at Dolores St   \n",
       "17                  74.0                              Laguna St at Hayes St   \n",
       "18                 321.0                                   5th St at Folsom   \n",
       "19                 180.0                           Telegraph Ave at 23rd St   \n",
       "20                  72.0                                Page St at Scott St   \n",
       "21                 163.0                          Lake Merritt BART Station   \n",
       "22                 370.0                                Jones St at Post St   \n",
       "23                 243.0                        Bancroft Way at College Ave   \n",
       "24                 190.0                                 West St at 40th St   \n",
       "25                 163.0                          Lake Merritt BART Station   \n",
       "26                   6.0                      The Embarcadero at Sansome St   \n",
       "27                  78.0                                Folsom St at 9th St   \n",
       "28                 258.0                        University Ave at Oxford St   \n",
       "29                 258.0                        University Ave at Oxford St   \n",
       "...                  ...                                                ...   \n",
       "183382              95.0                              Sanchez St at 15th St   \n",
       "183383             274.0                            Oregon St at Adeline St   \n",
       "183384             316.0                          San Salvador St at 1st St   \n",
       "183385             220.0                        San Pablo Ave at MLK Jr Way   \n",
       "183386             239.0                      Bancroft Way at Telegraph Ave   \n",
       "183387             239.0                      Bancroft Way at Telegraph Ave   \n",
       "183388              61.0                                Howard St at 8th St   \n",
       "183389              66.0                              3rd St at Townsend St   \n",
       "183390             239.0                      Bancroft Way at Telegraph Ave   \n",
       "183391             119.0                                  18th St at Noe St   \n",
       "183392               8.0                      The Embarcadero at Vallejo St   \n",
       "183393             116.0                          Mississippi St at 17th St   \n",
       "183394              26.0                                1st St at Folsom St   \n",
       "183395             276.0                           Julian St at The Alameda   \n",
       "183396             181.0                            Grand Ave at Webster St   \n",
       "183397              62.0                        Victoria Manalo Draves Park   \n",
       "183398             339.0                              Jackson St at 11th St   \n",
       "183399              67.0  San Francisco Caltrain Station 2  (Townsend St...   \n",
       "183400             356.0                        Valencia St at Clinton Park   \n",
       "183401             186.0                             Lakeside Dr at 14th St   \n",
       "183402             119.0                                  18th St at Noe St   \n",
       "183403             256.0                           Hearst Ave at Euclid Ave   \n",
       "183404             241.0                                 Ashby BART Station   \n",
       "183405             324.0                Union Square (Powell St at Post St)   \n",
       "183406             138.0                             Jersey St at Church St   \n",
       "183407              27.0                            Beale St at Harrison St   \n",
       "183408              21.0   Montgomery St BART Station (Market St at 2nd St)   \n",
       "183409             278.0                             The Alameda at Bush St   \n",
       "183410             220.0                        San Pablo Ave at MLK Jr Way   \n",
       "183411              24.0                              Spear St at Folsom St   \n",
       "\n",
       "        start_station_latitude  start_station_longitude  end_station_id  \\\n",
       "0                    37.789625              -122.400811            13.0   \n",
       "1                    37.791464              -122.391034            81.0   \n",
       "2                    37.769305              -122.426826             3.0   \n",
       "3                    37.774836              -122.446546            70.0   \n",
       "4                    37.804562              -122.271738           222.0   \n",
       "5                    37.770407              -122.391198           323.0   \n",
       "6                    37.317298              -121.884995           312.0   \n",
       "7                    37.795393              -122.404770           127.0   \n",
       "8                    37.795393              -122.404770           127.0   \n",
       "9                    37.788975              -122.403452           121.0   \n",
       "10                   37.787327              -122.413278            43.0   \n",
       "11                   37.781074              -122.411738           343.0   \n",
       "12                   37.756708              -122.421025           323.0   \n",
       "13                   37.865847              -122.267443           244.0   \n",
       "14                   37.869360              -122.254337           252.0   \n",
       "15                   37.781010              -122.405666            60.0   \n",
       "16                   37.755000              -122.425728            71.0   \n",
       "17                   37.776435              -122.426244           336.0   \n",
       "18                   37.780146              -122.403071            75.0   \n",
       "19                   37.812678              -122.268773           180.0   \n",
       "20                   37.772406              -122.435650           107.0   \n",
       "21                   37.797320              -122.265320           221.0   \n",
       "22                   37.787327              -122.413278            52.0   \n",
       "23                   37.869360              -122.254337           269.0   \n",
       "24                   37.830223              -122.270950           189.0   \n",
       "25                   37.797320              -122.265320           196.0   \n",
       "26                   37.804770              -122.403234            15.0   \n",
       "27                   37.773717              -122.411647            78.0   \n",
       "28                   37.872355              -122.266447           263.0   \n",
       "29                   37.872355              -122.266447           263.0   \n",
       "...                        ...                      ...             ...   \n",
       "183382               37.766219              -122.431060           324.0   \n",
       "183383               37.857567              -122.267558           244.0   \n",
       "183384               37.330165              -121.885831           298.0   \n",
       "183385               37.811351              -122.273422           337.0   \n",
       "183386               37.868813              -122.258764           245.0   \n",
       "183387               37.868813              -122.258764           245.0   \n",
       "183388               37.776513              -122.411306            81.0   \n",
       "183389               37.778742              -122.392741            47.0   \n",
       "183390               37.868813              -122.258764           266.0   \n",
       "183391               37.761047              -122.432642            85.0   \n",
       "183392               37.799953              -122.398525           350.0   \n",
       "183393               37.764802              -122.394771            93.0   \n",
       "183394               37.787290              -122.394380            96.0   \n",
       "183395               37.332233              -121.912517           277.0   \n",
       "183396               37.811377              -122.265192           212.0   \n",
       "183397               37.777791              -122.406432            59.0   \n",
       "183398               37.800002              -122.266438            46.0   \n",
       "183399               37.776639              -122.395526            58.0   \n",
       "183400               37.769188              -122.422285            58.0   \n",
       "183401               37.801319              -122.262642           181.0   \n",
       "183402               37.761047              -122.432642           120.0   \n",
       "183403               37.875112              -122.260553           247.0   \n",
       "183404               37.852477              -122.270213           248.0   \n",
       "183405               37.788300              -122.408531            19.0   \n",
       "183406               37.750900              -122.427411            78.0   \n",
       "183407               37.788059              -122.391865           324.0   \n",
       "183408               37.789625              -122.400811            66.0   \n",
       "183409               37.331932              -121.904888           277.0   \n",
       "183410               37.811351              -122.273422           216.0   \n",
       "183411               37.789677              -122.390428            37.0   \n",
       "\n",
       "                                         end_station_name  \\\n",
       "0                          Commercial St at Montgomery St   \n",
       "1                                      Berry St at 4th St   \n",
       "2            Powell St BART Station (Market St at 4th St)   \n",
       "3                                  Central Ave at Fell St   \n",
       "4                                   10th Ave at E 15th St   \n",
       "5                                      Broadway at Kearny   \n",
       "6                                San Jose Diridon Station   \n",
       "7                                  Valencia St at 21st St   \n",
       "8                                  Valencia St at 21st St   \n",
       "9                                      Mission Playground   \n",
       "10      San Francisco Public Library (Grove St at Hyde...   \n",
       "11                                    Bryant St at 2nd St   \n",
       "12                                     Broadway at Kearny   \n",
       "13                             Shattuck Ave at Hearst Ave   \n",
       "14                           Channing Way at Shattuck Ave   \n",
       "15                                   8th St at Ringold St   \n",
       "16                                 Broderick St at Oak St   \n",
       "17                            Potrero Ave and Mariposa St   \n",
       "18                               Market St at Franklin St   \n",
       "19                               Telegraph Ave at 23rd St   \n",
       "20                                  17th St at Dolores St   \n",
       "21              6th Ave at E 12th St (Temporary Location)   \n",
       "22                              McAllister St at Baker St   \n",
       "23                           Telegraph Ave at Carleton St   \n",
       "24                                    Genoa St at 55th St   \n",
       "25                                Grand Ave at Perkins St   \n",
       "26      San Francisco Ferry Building (Harry Bridges Pl...   \n",
       "27                                    Folsom St at 9th St   \n",
       "28                          Channing Way at San Pablo Ave   \n",
       "29                          Channing Way at San Pablo Ave   \n",
       "...                                                   ...   \n",
       "183382                Union Square (Powell St at Post St)   \n",
       "183383                         Shattuck Ave at Hearst Ave   \n",
       "183384                                   Oak St at 1st St   \n",
       "183385                              Webster St at 19th St   \n",
       "183386                             Downtown Berkeley BART   \n",
       "183387                             Downtown Berkeley BART   \n",
       "183388                                 Berry St at 4th St   \n",
       "183389                              4th St at Harrison St   \n",
       "183390                             Parker St at Fulton St   \n",
       "183391                            Church St at Duboce Ave   \n",
       "183392                               8th St at Brannan St   \n",
       "183393                       4th St at Mission Bay Blvd S   \n",
       "183394                              Dolores St at 15th St   \n",
       "183395                          Morrison Ave at Julian St   \n",
       "183396                                      Mosswood Park   \n",
       "183397                        S Van Ness Ave at Market St   \n",
       "183398                                   San Antonio Park   \n",
       "183399                               Market St at 10th St   \n",
       "183400                               Market St at 10th St   \n",
       "183401                            Grand Ave at Webster St   \n",
       "183402                               Mission Dolores Park   \n",
       "183403                          Fulton St at Bancroft Way   \n",
       "183404                         Telegraph Ave at Ashby Ave   \n",
       "183405                               Post St at Kearny St   \n",
       "183406                                Folsom St at 9th St   \n",
       "183407                Union Square (Powell St at Post St)   \n",
       "183408                              3rd St at Townsend St   \n",
       "183409                          Morrison Ave at Julian St   \n",
       "183410                           San Pablo Ave at 27th St   \n",
       "183411                                2nd St at Folsom St   \n",
       "\n",
       "        end_station_latitude  end_station_longitude  bike_id   user_type  \\\n",
       "0                  37.794231            -122.402923     4902    Customer   \n",
       "1                  37.775880            -122.393170     2535    Customer   \n",
       "2                  37.786375            -122.404904     5905    Customer   \n",
       "3                  37.773311            -122.444293     6638  Subscriber   \n",
       "4                  37.792714            -122.248780     4898  Subscriber   \n",
       "5                  37.798014            -122.405950     5200  Subscriber   \n",
       "6                  37.329732            -121.901782     3803  Subscriber   \n",
       "7                  37.756708            -122.421025     6329  Subscriber   \n",
       "8                  37.756708            -122.421025     6548  Subscriber   \n",
       "9                  37.759210            -122.421339     6488  Subscriber   \n",
       "10                 37.778768            -122.415929     5318  Subscriber   \n",
       "11                 37.783172            -122.393572     5848  Subscriber   \n",
       "12                 37.798014            -122.405950     5328    Customer   \n",
       "13                 37.873676            -122.268487     5101  Subscriber   \n",
       "14                 37.865847            -122.267443     4786  Subscriber   \n",
       "15                 37.774520            -122.409449     6361  Subscriber   \n",
       "16                 37.773063            -122.439078     6572  Subscriber   \n",
       "17                 37.763281            -122.407377     5343  Subscriber   \n",
       "18                 37.773793            -122.421239     5854  Subscriber   \n",
       "19                 37.812678            -122.268773     5629    Customer   \n",
       "20                 37.763015            -122.426497     4999  Subscriber   \n",
       "21                 37.794396            -122.253842     6007  Subscriber   \n",
       "22                 37.777416            -122.441838     5479  Subscriber   \n",
       "23                 37.862320            -122.258801     1804  Subscriber   \n",
       "24                 37.839649            -122.271756     5678  Subscriber   \n",
       "25                 37.808894            -122.256460     6240  Subscriber   \n",
       "26                 37.795392            -122.394203     6531    Customer   \n",
       "27                 37.773717            -122.411647     5410  Subscriber   \n",
       "28                 37.862827            -122.290230     4784    Customer   \n",
       "29                 37.862827            -122.290230      363  Subscriber   \n",
       "...                      ...                    ...      ...         ...   \n",
       "183382             37.788300            -122.408531     1565  Subscriber   \n",
       "183383             37.873676            -122.268487     4541    Customer   \n",
       "183384             37.322125            -121.881090     4044  Subscriber   \n",
       "183385             37.806970            -122.266588     3487  Subscriber   \n",
       "183386             37.870139            -122.268422     1377  Subscriber   \n",
       "183387             37.870139            -122.268422     2055  Subscriber   \n",
       "183388             37.775880            -122.393170     5411  Subscriber   \n",
       "183389             37.780955            -122.399749     4960  Subscriber   \n",
       "183390             37.862464            -122.264791     3756  Subscriber   \n",
       "183391             37.770083            -122.429156     5540  Subscriber   \n",
       "183392             37.771431            -122.405787     3506  Subscriber   \n",
       "183393             37.770407            -122.391198     5406  Subscriber   \n",
       "183394             37.766210            -122.426614     5331  Subscriber   \n",
       "183395             37.333658            -121.908586     4299  Subscriber   \n",
       "183396             37.824893            -122.260437     3561  Subscriber   \n",
       "183397             37.774814            -122.418954     5531  Subscriber   \n",
       "183398             37.790140            -122.242373     3233  Subscriber   \n",
       "183399             37.776619            -122.417385     3392  Subscriber   \n",
       "183400             37.776619            -122.417385     4962  Subscriber   \n",
       "183401             37.811377            -122.265192     4505  Subscriber   \n",
       "183402             37.761420            -122.426435     4326  Subscriber   \n",
       "183403             37.867789            -122.265896     4642  Subscriber   \n",
       "183404             37.855956            -122.259795     4845  Subscriber   \n",
       "183405             37.788975            -122.403452     4832  Subscriber   \n",
       "183406             37.773717            -122.411647     5017  Subscriber   \n",
       "183407             37.788300            -122.408531     4832  Subscriber   \n",
       "183408             37.778742            -122.392741     4960  Subscriber   \n",
       "183409             37.333658            -121.908586     3824  Subscriber   \n",
       "183410             37.817827            -122.275698     5095  Subscriber   \n",
       "183411             37.785000            -122.395936     1057  Subscriber   \n",
       "\n",
       "        member_birth_year member_gender bike_share_for_all_trip  \n",
       "0                  1984.0          Male                      No  \n",
       "1                     NaN           NaN                      No  \n",
       "2                  1972.0          Male                      No  \n",
       "3                  1989.0         Other                      No  \n",
       "4                  1974.0          Male                     Yes  \n",
       "5                  1959.0          Male                      No  \n",
       "6                  1983.0        Female                      No  \n",
       "7                  1989.0          Male                      No  \n",
       "8                  1988.0         Other                      No  \n",
       "9                  1992.0          Male                      No  \n",
       "10                 1996.0        Female                     Yes  \n",
       "11                 1993.0          Male                      No  \n",
       "12                 1990.0          Male                      No  \n",
       "13                    NaN           NaN                      No  \n",
       "14                 1988.0          Male                      No  \n",
       "15                 1993.0          Male                     Yes  \n",
       "16                 1981.0          Male                      No  \n",
       "17                 1975.0          Male                      No  \n",
       "18                 1990.0          Male                      No  \n",
       "19                 1978.0          Male                      No  \n",
       "20                 1983.0          Male                      No  \n",
       "21                 1984.0          Male                     Yes  \n",
       "22                 1991.0        Female                      No  \n",
       "23                 1997.0        Female                      No  \n",
       "24                 1975.0          Male                      No  \n",
       "25                 1986.0          Male                      No  \n",
       "26                 2000.0          Male                      No  \n",
       "27                 1982.0          Male                      No  \n",
       "28                    NaN           NaN                      No  \n",
       "29                 1995.0          Male                      No  \n",
       "...                   ...           ...                     ...  \n",
       "183382             1988.0          Male                      No  \n",
       "183383             1997.0          Male                      No  \n",
       "183384             1991.0          Male                      No  \n",
       "183385             1945.0          Male                     Yes  \n",
       "183386             1998.0          Male                     Yes  \n",
       "183387             1999.0          Male                     Yes  \n",
       "183388             1927.0          Male                      No  \n",
       "183389             1985.0         Other                      No  \n",
       "183390             1999.0          Male                      No  \n",
       "183391             1980.0          Male                     Yes  \n",
       "183392             1993.0          Male                      No  \n",
       "183393             1985.0          Male                      No  \n",
       "183394             1975.0          Male                      No  \n",
       "183395             1993.0          Male                     Yes  \n",
       "183396             1991.0          Male                     Yes  \n",
       "183397             1988.0          Male                      No  \n",
       "183398             1982.0          Male                      No  \n",
       "183399             1993.0          Male                      No  \n",
       "183400             1984.0          Male                      No  \n",
       "183401             1991.0          Male                     Yes  \n",
       "183402                NaN           NaN                      No  \n",
       "183403             2000.0          Male                      No  \n",
       "183404             1980.0          Male                     Yes  \n",
       "183405             1984.0          Male                      No  \n",
       "183406             1988.0          Male                      No  \n",
       "183407             1996.0          Male                      No  \n",
       "183408             1984.0          Male                      No  \n",
       "183409             1990.0          Male                     Yes  \n",
       "183410             1988.0          Male                      No  \n",
       "183411             1989.0          Male                      No  \n",
       "\n",
       "[183412 rows x 16 columns]>"
      ]
     },
     "execution_count": 4,
     "metadata": {},
     "output_type": "execute_result"
    }
   ],
   "source": [
    "df.info"
   ]
  },
  {
   "cell_type": "code",
   "execution_count": 5,
   "metadata": {},
   "outputs": [
    {
     "data": {
      "text/plain": [
       "duration_sec                  0\n",
       "start_time                    0\n",
       "end_time                      0\n",
       "start_station_id            197\n",
       "start_station_name          197\n",
       "start_station_latitude        0\n",
       "start_station_longitude       0\n",
       "end_station_id              197\n",
       "end_station_name            197\n",
       "end_station_latitude          0\n",
       "end_station_longitude         0\n",
       "bike_id                       0\n",
       "user_type                     0\n",
       "member_birth_year          8265\n",
       "member_gender              8265\n",
       "bike_share_for_all_trip       0\n",
       "dtype: int64"
      ]
     },
     "execution_count": 5,
     "metadata": {},
     "output_type": "execute_result"
    }
   ],
   "source": [
    "df.isnull().sum()"
   ]
  },
  {
   "cell_type": "code",
   "execution_count": 6,
   "metadata": {},
   "outputs": [
    {
     "name": "stdout",
     "output_type": "stream",
     "text": [
      "<class 'pandas.core.frame.DataFrame'>\n",
      "RangeIndex: 183412 entries, 0 to 183411\n",
      "Data columns (total 12 columns):\n",
      "duration_sec               183412 non-null int64\n",
      "start_time                 183412 non-null object\n",
      "end_time                   183412 non-null object\n",
      "start_station_latitude     183412 non-null float64\n",
      "start_station_longitude    183412 non-null float64\n",
      "end_station_latitude       183412 non-null float64\n",
      "end_station_longitude      183412 non-null float64\n",
      "bike_id                    183412 non-null int64\n",
      "user_type                  183412 non-null object\n",
      "member_birth_year          175147 non-null float64\n",
      "member_gender              175147 non-null object\n",
      "bike_share_for_all_trip    183412 non-null object\n",
      "dtypes: float64(5), int64(2), object(5)\n",
      "memory usage: 16.8+ MB\n"
     ]
    }
   ],
   "source": [
    "# w will drop the unwanted columns\n",
    "df = df.drop(['start_station_id', 'start_station_name','end_station_id', 'end_station_name'], \n",
    "             axis=1)\n",
    "df.info()"
   ]
  },
  {
   "cell_type": "code",
   "execution_count": 7,
   "metadata": {},
   "outputs": [],
   "source": [
    "df.start_time = pd.to_datetime(df.start_time)\n",
    "df.end_time = pd.to_datetime(df.end_time)"
   ]
  },
  {
   "cell_type": "code",
   "execution_count": 8,
   "metadata": {},
   "outputs": [
    {
     "data": {
      "text/plain": [
       "8265"
      ]
     },
     "execution_count": 8,
     "metadata": {},
     "output_type": "execute_result"
    }
   ],
   "source": [
    "df.member_birth_year.isna().sum()"
   ]
  },
  {
   "cell_type": "code",
   "execution_count": 9,
   "metadata": {},
   "outputs": [
    {
     "data": {
      "text/plain": [
       "4.506248228033062"
      ]
     },
     "execution_count": 9,
     "metadata": {},
     "output_type": "execute_result"
    }
   ],
   "source": [
    "(df.member_birth_year.isna().sum() / df.member_birth_year.shape[0]) *100"
   ]
  },
  {
   "cell_type": "markdown",
   "metadata": {},
   "source": [
    "there are only 4.5% of 8265 the whole data set with no brith year \n",
    "we will be removing them by chainging the "
   ]
  },
  {
   "cell_type": "code",
   "execution_count": 10,
   "metadata": {},
   "outputs": [],
   "source": [
    "df.dropna(axis=0, inplace=True)"
   ]
  },
  {
   "cell_type": "code",
   "execution_count": 11,
   "metadata": {},
   "outputs": [
    {
     "data": {
      "text/plain": [
       "duration_sec               0\n",
       "start_time                 0\n",
       "end_time                   0\n",
       "start_station_latitude     0\n",
       "start_station_longitude    0\n",
       "end_station_latitude       0\n",
       "end_station_longitude      0\n",
       "bike_id                    0\n",
       "user_type                  0\n",
       "member_birth_year          0\n",
       "member_gender              0\n",
       "bike_share_for_all_trip    0\n",
       "dtype: int64"
      ]
     },
     "execution_count": 11,
     "metadata": {},
     "output_type": "execute_result"
    }
   ],
   "source": [
    "df.isna().sum()"
   ]
  },
  {
   "cell_type": "code",
   "execution_count": 12,
   "metadata": {},
   "outputs": [],
   "source": [
    "df['member_birth_year'] = df['member_birth_year'].astype(int)\n",
    "df['age'] = 2019-df['member_birth_year']"
   ]
  },
  {
   "cell_type": "code",
   "execution_count": 13,
   "metadata": {},
   "outputs": [],
   "source": [
    "d = df[pd.DatetimeIndex(df.start_time).date != pd.DatetimeIndex(df.end_time).date]\n",
    "d\n",
    "df['day'] = df.start_time.dt.day_name()\n",
    "df.loc[pd.DatetimeIndex(df.start_time).date != pd.DatetimeIndex(df.end_time).date , 'day'] = d.end_time.dt.day_name()"
   ]
  },
  {
   "cell_type": "code",
   "execution_count": 14,
   "metadata": {},
   "outputs": [],
   "source": [
    "from math import sin, cos, sqrt, atan2, radians\n",
    "\n",
    "def distance_from_startStation_to_endStation (df ,lat1,lon1,lat2,lon2):\n",
    "   \n",
    "    R = 6373.0\n",
    "    lat1 = df[lat1]\n",
    "    lat2 = df[lat2]\n",
    "    lon1 = df[lon1]\n",
    "    lon2 = df[lon2]\n",
    "    lon1 , lat1 , lon2,lat2 = map(np.radians , [lon1 , lat1 , lon2,lat2])\n",
    "    dlon = lon2 - lon1\n",
    "    dlat = lat2 - lat1\n",
    "    a = np.sin(dlat / 2)**2 + np.cos(lat1) * np.cos(lat2) * np.sin(dlon / 2)**2\n",
    "    c = 2 * np.arcsin(np.sqrt(a))\n",
    "    distance = R * c\n",
    "    return np.float64(round(1000*distance))"
   ]
  },
  {
   "cell_type": "code",
   "execution_count": 15,
   "metadata": {},
   "outputs": [],
   "source": [
    "df['distance'] = distance_from_startStation_to_endStation(df ,'start_station_longitude', 'start_station_latitude','end_station_longitude','end_station_latitude')\n"
   ]
  },
  {
   "cell_type": "code",
   "execution_count": 16,
   "metadata": {},
   "outputs": [
    {
     "name": "stdout",
     "output_type": "stream",
     "text": [
      "<class 'pandas.core.frame.DataFrame'>\n",
      "Int64Index: 175147 entries, 0 to 183411\n",
      "Data columns (total 15 columns):\n",
      "duration_sec               175147 non-null int64\n",
      "start_time                 175147 non-null datetime64[ns]\n",
      "end_time                   175147 non-null datetime64[ns]\n",
      "start_station_latitude     175147 non-null float64\n",
      "start_station_longitude    175147 non-null float64\n",
      "end_station_latitude       175147 non-null float64\n",
      "end_station_longitude      175147 non-null float64\n",
      "bike_id                    175147 non-null int64\n",
      "user_type                  175147 non-null category\n",
      "member_birth_year          175147 non-null int64\n",
      "member_gender              175147 non-null object\n",
      "bike_share_for_all_trip    175147 non-null object\n",
      "age                        175147 non-null int64\n",
      "day                        175147 non-null object\n",
      "distance                   175147 non-null float64\n",
      "dtypes: category(1), datetime64[ns](2), float64(5), int64(4), object(3)\n",
      "memory usage: 20.2+ MB\n"
     ]
    }
   ],
   "source": [
    "df['start_time'] = df['start_time'].astype('datetime64[ns]')\n",
    "df['end_time'] = df['end_time'].astype('datetime64[ns]')\n",
    "df['user_type'] = df['user_type'].astype('category')\n",
    "df.info()"
   ]
  },
  {
   "cell_type": "code",
   "execution_count": 17,
   "metadata": {},
   "outputs": [],
   "source": [
    "d = df[df.start_time.dt.date != df.end_time.dt.date]\n",
    "df['day'] = df.start_time.dt.day_name()\n",
    "df.loc[df.start_time.dt.date != df.end_time.dt.date, 'day'] = d.end_time.dt.day_name()"
   ]
  },
  {
   "cell_type": "code",
   "execution_count": 18,
   "metadata": {},
   "outputs": [],
   "source": [
    "day_order = ['Monday', 'Tuesday','Wednesday','Thursday', 'Friday', 'Saturday', 'Sunday']\n",
    "df['day'] = pd.Categorical(df['day'],\n",
    "                           categories= day_order,\n",
    "                           ordered = True)"
   ]
  },
  {
   "cell_type": "code",
   "execution_count": 19,
   "metadata": {},
   "outputs": [
    {
     "data": {
      "text/html": [
       "<div>\n",
       "<style scoped>\n",
       "    .dataframe tbody tr th:only-of-type {\n",
       "        vertical-align: middle;\n",
       "    }\n",
       "\n",
       "    .dataframe tbody tr th {\n",
       "        vertical-align: top;\n",
       "    }\n",
       "\n",
       "    .dataframe thead th {\n",
       "        text-align: right;\n",
       "    }\n",
       "</style>\n",
       "<table border=\"1\" class=\"dataframe\">\n",
       "  <thead>\n",
       "    <tr style=\"text-align: right;\">\n",
       "      <th></th>\n",
       "      <th>duration_sec</th>\n",
       "      <th>start_time</th>\n",
       "      <th>end_time</th>\n",
       "      <th>start_station_latitude</th>\n",
       "      <th>start_station_longitude</th>\n",
       "      <th>end_station_latitude</th>\n",
       "      <th>end_station_longitude</th>\n",
       "      <th>bike_id</th>\n",
       "      <th>user_type</th>\n",
       "      <th>member_birth_year</th>\n",
       "      <th>member_gender</th>\n",
       "      <th>bike_share_for_all_trip</th>\n",
       "      <th>age</th>\n",
       "      <th>day</th>\n",
       "      <th>distance</th>\n",
       "    </tr>\n",
       "  </thead>\n",
       "  <tbody>\n",
       "    <tr>\n",
       "      <th>0</th>\n",
       "      <td>52185</td>\n",
       "      <td>2019-02-28 17:32:10.145</td>\n",
       "      <td>2019-03-01 08:01:55.975</td>\n",
       "      <td>37.789625</td>\n",
       "      <td>-122.400811</td>\n",
       "      <td>37.794231</td>\n",
       "      <td>-122.402923</td>\n",
       "      <td>4902</td>\n",
       "      <td>Customer</td>\n",
       "      <td>1984</td>\n",
       "      <td>Male</td>\n",
       "      <td>No</td>\n",
       "      <td>35</td>\n",
       "      <td>Friday</td>\n",
       "      <td>361.0</td>\n",
       "    </tr>\n",
       "    <tr>\n",
       "      <th>2</th>\n",
       "      <td>61854</td>\n",
       "      <td>2019-02-28 12:13:13.218</td>\n",
       "      <td>2019-03-01 05:24:08.146</td>\n",
       "      <td>37.769305</td>\n",
       "      <td>-122.426826</td>\n",
       "      <td>37.786375</td>\n",
       "      <td>-122.404904</td>\n",
       "      <td>5905</td>\n",
       "      <td>Customer</td>\n",
       "      <td>1972</td>\n",
       "      <td>Male</td>\n",
       "      <td>No</td>\n",
       "      <td>47</td>\n",
       "      <td>Friday</td>\n",
       "      <td>2642.0</td>\n",
       "    </tr>\n",
       "    <tr>\n",
       "      <th>3</th>\n",
       "      <td>36490</td>\n",
       "      <td>2019-02-28 17:54:26.010</td>\n",
       "      <td>2019-03-01 04:02:36.842</td>\n",
       "      <td>37.774836</td>\n",
       "      <td>-122.446546</td>\n",
       "      <td>37.773311</td>\n",
       "      <td>-122.444293</td>\n",
       "      <td>6638</td>\n",
       "      <td>Subscriber</td>\n",
       "      <td>1989</td>\n",
       "      <td>Other</td>\n",
       "      <td>No</td>\n",
       "      <td>30</td>\n",
       "      <td>Friday</td>\n",
       "      <td>267.0</td>\n",
       "    </tr>\n",
       "    <tr>\n",
       "      <th>4</th>\n",
       "      <td>1585</td>\n",
       "      <td>2019-02-28 23:54:18.549</td>\n",
       "      <td>2019-03-01 00:20:44.074</td>\n",
       "      <td>37.804562</td>\n",
       "      <td>-122.271738</td>\n",
       "      <td>37.792714</td>\n",
       "      <td>-122.248780</td>\n",
       "      <td>4898</td>\n",
       "      <td>Subscriber</td>\n",
       "      <td>1974</td>\n",
       "      <td>Male</td>\n",
       "      <td>Yes</td>\n",
       "      <td>45</td>\n",
       "      <td>Friday</td>\n",
       "      <td>2649.0</td>\n",
       "    </tr>\n",
       "    <tr>\n",
       "      <th>5</th>\n",
       "      <td>1793</td>\n",
       "      <td>2019-02-28 23:49:58.632</td>\n",
       "      <td>2019-03-01 00:19:51.760</td>\n",
       "      <td>37.770407</td>\n",
       "      <td>-122.391198</td>\n",
       "      <td>37.798014</td>\n",
       "      <td>-122.405950</td>\n",
       "      <td>5200</td>\n",
       "      <td>Subscriber</td>\n",
       "      <td>1959</td>\n",
       "      <td>Male</td>\n",
       "      <td>No</td>\n",
       "      <td>60</td>\n",
       "      <td>Friday</td>\n",
       "      <td>2324.0</td>\n",
       "    </tr>\n",
       "  </tbody>\n",
       "</table>\n",
       "</div>"
      ],
      "text/plain": [
       "   duration_sec              start_time                end_time  \\\n",
       "0         52185 2019-02-28 17:32:10.145 2019-03-01 08:01:55.975   \n",
       "2         61854 2019-02-28 12:13:13.218 2019-03-01 05:24:08.146   \n",
       "3         36490 2019-02-28 17:54:26.010 2019-03-01 04:02:36.842   \n",
       "4          1585 2019-02-28 23:54:18.549 2019-03-01 00:20:44.074   \n",
       "5          1793 2019-02-28 23:49:58.632 2019-03-01 00:19:51.760   \n",
       "\n",
       "   start_station_latitude  start_station_longitude  end_station_latitude  \\\n",
       "0               37.789625              -122.400811             37.794231   \n",
       "2               37.769305              -122.426826             37.786375   \n",
       "3               37.774836              -122.446546             37.773311   \n",
       "4               37.804562              -122.271738             37.792714   \n",
       "5               37.770407              -122.391198             37.798014   \n",
       "\n",
       "   end_station_longitude  bike_id   user_type  member_birth_year  \\\n",
       "0            -122.402923     4902    Customer               1984   \n",
       "2            -122.404904     5905    Customer               1972   \n",
       "3            -122.444293     6638  Subscriber               1989   \n",
       "4            -122.248780     4898  Subscriber               1974   \n",
       "5            -122.405950     5200  Subscriber               1959   \n",
       "\n",
       "  member_gender bike_share_for_all_trip  age     day  distance  \n",
       "0          Male                      No   35  Friday     361.0  \n",
       "2          Male                      No   47  Friday    2642.0  \n",
       "3         Other                      No   30  Friday     267.0  \n",
       "4          Male                     Yes   45  Friday    2649.0  \n",
       "5          Male                      No   60  Friday    2324.0  "
      ]
     },
     "execution_count": 19,
     "metadata": {},
     "output_type": "execute_result"
    }
   ],
   "source": [
    "df.head()"
   ]
  },
  {
   "cell_type": "code",
   "execution_count": 20,
   "metadata": {
    "scrolled": true
   },
   "outputs": [
    {
     "data": {
      "text/plain": [
       "(175147, 15)"
      ]
     },
     "execution_count": 20,
     "metadata": {},
     "output_type": "execute_result"
    }
   ],
   "source": [
    "df.shape"
   ]
  },
  {
   "cell_type": "code",
   "execution_count": 21,
   "metadata": {},
   "outputs": [
    {
     "data": {
      "text/plain": [
       "member_gender\n",
       "Female    779.070390\n",
       "Male      672.639069\n",
       "Other     996.515334\n",
       "Name: duration_sec, dtype: float64"
      ]
     },
     "execution_count": 21,
     "metadata": {},
     "output_type": "execute_result"
    }
   ],
   "source": [
    "df.groupby('member_gender')['duration_sec'].mean()"
   ]
  },
  {
   "cell_type": "markdown",
   "metadata": {},
   "source": [
    "### What is the structure of your dataset?\n",
    "\n",
    ">((175147, 14)) rows / columns\n",
    "### What is/are the main feature(s) of interest in your dataset?\n",
    "\n",
    "> the main features i will be foucasing on are \n",
    "-gender\n",
    "-age \n",
    "-ride duration \n",
    "-and the distance\n",
    "\n",
    "\n",
    "\n",
    "### What features in the dataset do you think will help support your investigation into your feature(s) of interest?\n",
    "\n",
    "the start date time and gender of member and  birth year and distance."
   ]
  },
  {
   "cell_type": "markdown",
   "metadata": {},
   "source": [
    "## Univariate Exploration\n",
    "\n",
    "> In this section, investigate distributions of individual variables. If\n",
    "you see unusual points or outliers, take a deeper look to clean things up\n",
    "and prepare yourself to look at relationships between variables.\n",
    "\n",
    "\n",
    "> **Rubric Tip**: The project (Parts I alone) should have at least 15 visualizations distributed over univariate, bivariate, and multivariate plots to explore many relationships in the data set.  Use reasoning to justify the flow of the exploration.\n",
    "\n",
    "\n",
    "\n",
    ">**Rubric Tip**: Use the \"Question-Visualization-Observations\" framework  throughout the exploration. This framework involves **asking a question from the data, creating a visualization to find answers, and then recording observations after each visualisation.** \n"
   ]
  },
  {
   "cell_type": "code",
   "execution_count": 22,
   "metadata": {},
   "outputs": [
    {
     "data": {
      "text/plain": [
       "(10, 60)"
      ]
     },
     "execution_count": 22,
     "metadata": {},
     "output_type": "execute_result"
    },
    {
     "data": {
      "image/png": "[encoded data removed]",
      "text/plain": [
       "<matplotlib.figure.Figure at 0x7f0d01de9be0>"
      ]
     },
     "metadata": {
      "needs_background": "light"
     },
     "output_type": "display_data"
    }
   ],
   "source": [
    "plt.figure(figsize=(20,5))\n",
    "sb.boxplot( data=df, x='age')\n",
    "plt.title(\"The distribution of members' ages\",y=1)\n",
    "plt.xlabel(\"the age of the cilent age\", labelpad=10);\n",
    "plt.xlim(10,60)"
   ]
  },
  {
   "cell_type": "code",
   "execution_count": 23,
   "metadata": {},
   "outputs": [],
   "source": [
    "## we need this function to determin the age ranges \n",
    "def age_bins(x):\n",
    "    if 10<=x<20:\n",
    "        return '10 - 20'\n",
    "    elif 20<=x<30:\n",
    "        return '20 - 30'\n",
    "    elif 30<=x<40:\n",
    "        return '30 - 40'\n",
    "    elif 40<=x<50:\n",
    "        return '40 - 50'\n",
    "    elif 50<=x<=60:\n",
    "        return '50 - 60'\n",
    "    else:\n",
    "        return x\n",
    "df['member_age_bins'] = df['age'].apply(age_bins)"
   ]
  },
  {
   "cell_type": "markdown",
   "metadata": {},
   "source": [
    ">the  avarage user age is  between  25 and 39"
   ]
  },
  {
   "cell_type": "code",
   "execution_count": 24,
   "metadata": {},
   "outputs": [
    {
     "data": {
      "text/plain": [
       "Text(0.5,1,'Trip duration')"
      ]
     },
     "execution_count": 24,
     "metadata": {},
     "output_type": "execute_result"
    },
    {
     "data": {
      "image/png": "[encoded data removed]",
      "text/plain": [
       "<matplotlib.figure.Figure at 0x7f0d01de9e80>"
      ]
     },
     "metadata": {
      "needs_background": "light"
     },
     "output_type": "display_data"
    }
   ],
   "source": [
    "plt.hist( data= df, x ='duration_sec', bins = 900);\n",
    "plt.xlim(0,2000)\n",
    "plt.xlabel('Duration')\n",
    "plt.ylabel ('Frequency')\n",
    "plt.title('Trip duration')"
   ]
  },
  {
   "cell_type": "code",
   "execution_count": null,
   "metadata": {},
   "outputs": [],
   "source": []
  },
  {
   "cell_type": "markdown",
   "metadata": {},
   "source": [
    "\n",
    "\n",
    ">the distence of the each trip is between 250m and 750m"
   ]
  },
  {
   "cell_type": "code",
   "execution_count": 25,
   "metadata": {},
   "outputs": [
    {
     "data": {
      "text/plain": [
       "Text(0.5,1,'Distriubtiuon bike')"
      ]
     },
     "execution_count": 25,
     "metadata": {},
     "output_type": "execute_result"
    },
    {
     "data": {
      "image/png": "[encoded data removed]",
      "text/plain": [
       "<matplotlib.figure.Figure at 0x7f0d01f2f438>"
      ]
     },
     "metadata": {
      "needs_background": "light"
     },
     "output_type": "display_data"
    }
   ],
   "source": [
    "\n",
    "sb.distplot(df['bike_id'].value_counts())\n",
    "plt.xlabel('id')\n",
    "plt.ylabel('Frequency')\n",
    "plt.title('Distriubtiuon bike')"
   ]
  },
  {
   "cell_type": "markdown",
   "metadata": {},
   "source": [
    ">the distriubtiuon of bike is from 1 to 50 "
   ]
  },
  {
   "cell_type": "code",
   "execution_count": 26,
   "metadata": {},
   "outputs": [
    {
     "data": {
      "text/plain": [
       "Text(0.5,0,'User distribtuon')"
      ]
     },
     "execution_count": 26,
     "metadata": {},
     "output_type": "execute_result"
    },
    {
     "data": {
      "image/png": "[encoded data removed]",
      "text/plain": [
       "<matplotlib.figure.Figure at 0x7f0d056bcb00>"
      ]
     },
     "metadata": {
      "needs_background": "light"
     },
     "output_type": "display_data"
    }
   ],
   "source": [
    "base_color=sb.color_palette()[0]\n",
    "sb.countplot(data= df , x='user_type', color= base_color)\n",
    "plt.title('User type')\n",
    "plt.ylabel('Frequency')\n",
    "plt.xlabel('User distribtuon')"
   ]
  },
  {
   "cell_type": "code",
   "execution_count": null,
   "metadata": {},
   "outputs": [],
   "source": []
  },
  {
   "cell_type": "markdown",
   "metadata": {},
   "source": [
    ">there are more subscrabier than customers "
   ]
  },
  {
   "cell_type": "code",
   "execution_count": 27,
   "metadata": {},
   "outputs": [
    {
     "data": {
      "text/html": [
       "<div>\n",
       "<style scoped>\n",
       "    .dataframe tbody tr th:only-of-type {\n",
       "        vertical-align: middle;\n",
       "    }\n",
       "\n",
       "    .dataframe tbody tr th {\n",
       "        vertical-align: top;\n",
       "    }\n",
       "\n",
       "    .dataframe thead th {\n",
       "        text-align: right;\n",
       "    }\n",
       "</style>\n",
       "<table border=\"1\" class=\"dataframe\">\n",
       "  <thead>\n",
       "    <tr style=\"text-align: right;\">\n",
       "      <th></th>\n",
       "      <th>count</th>\n",
       "    </tr>\n",
       "    <tr>\n",
       "      <th>member_gender</th>\n",
       "      <th></th>\n",
       "    </tr>\n",
       "  </thead>\n",
       "  <tbody>\n",
       "    <tr>\n",
       "      <th>Female</th>\n",
       "      <td>40844</td>\n",
       "    </tr>\n",
       "    <tr>\n",
       "      <th>Male</th>\n",
       "      <td>130651</td>\n",
       "    </tr>\n",
       "    <tr>\n",
       "      <th>Other</th>\n",
       "      <td>3652</td>\n",
       "    </tr>\n",
       "  </tbody>\n",
       "</table>\n",
       "</div>"
      ],
      "text/plain": [
       "                count\n",
       "member_gender        \n",
       "Female          40844\n",
       "Male           130651\n",
       "Other            3652"
      ]
     },
     "execution_count": 27,
     "metadata": {},
     "output_type": "execute_result"
    }
   ],
   "source": [
    " gender_df = df.groupby('member_gender').agg({'bike_id':'count'})\n",
    "gender_df.rename(columns={'bike_id':'count'}, inplace=True)\n",
    "gender_df.head()"
   ]
  },
  {
   "cell_type": "code",
   "execution_count": 28,
   "metadata": {},
   "outputs": [
    {
     "data": {
      "text/html": [
       "<div>\n",
       "<style scoped>\n",
       "    .dataframe tbody tr th:only-of-type {\n",
       "        vertical-align: middle;\n",
       "    }\n",
       "\n",
       "    .dataframe tbody tr th {\n",
       "        vertical-align: top;\n",
       "    }\n",
       "\n",
       "    .dataframe thead th {\n",
       "        text-align: right;\n",
       "    }\n",
       "</style>\n",
       "<table border=\"1\" class=\"dataframe\">\n",
       "  <thead>\n",
       "    <tr style=\"text-align: right;\">\n",
       "      <th></th>\n",
       "      <th>count</th>\n",
       "      <th>percent</th>\n",
       "    </tr>\n",
       "    <tr>\n",
       "      <th>member_gender</th>\n",
       "      <th></th>\n",
       "      <th></th>\n",
       "    </tr>\n",
       "  </thead>\n",
       "  <tbody>\n",
       "    <tr>\n",
       "      <th>Female</th>\n",
       "      <td>40844</td>\n",
       "      <td>23.319840</td>\n",
       "    </tr>\n",
       "    <tr>\n",
       "      <th>Male</th>\n",
       "      <td>130651</td>\n",
       "      <td>74.595054</td>\n",
       "    </tr>\n",
       "    <tr>\n",
       "      <th>Other</th>\n",
       "      <td>3652</td>\n",
       "      <td>2.085106</td>\n",
       "    </tr>\n",
       "  </tbody>\n",
       "</table>\n",
       "</div>"
      ],
      "text/plain": [
       "                count    percent\n",
       "member_gender                   \n",
       "Female          40844  23.319840\n",
       "Male           130651  74.595054\n",
       "Other            3652   2.085106"
      ]
     },
     "execution_count": 28,
     "metadata": {},
     "output_type": "execute_result"
    }
   ],
   "source": [
    " gender_df['percent'] = (gender_df['count'] /gender_df['count'].sum()) *100\n",
    "gender_df.head()"
   ]
  },
  {
   "cell_type": "code",
   "execution_count": 29,
   "metadata": {
    "scrolled": true
   },
   "outputs": [
    {
     "data": {
      "image/png": "[encoded data removed]",
      "text/plain": [
       "<matplotlib.figure.Figure at 0x7f0d057c3e80>"
      ]
     },
     "metadata": {
      "needs_background": "light"
     },
     "output_type": "display_data"
    }
   ],
   "source": [
    "gender_df['percent'].sort_values(ascending=False).plot(kind='bar', figsize=(5,6))\n",
    "plt.title('Percentage of bike rides per gender',)\n",
    "plt.xlabel('member gender',)\n",
    "plt.ylabel('rides pecentage(%)',)\n",
    "plt.xticks(rotation=360)\n",
    "plt.yticks([x for x in range(0,80,5)]);\n",
    "plt.legend(['male','other'] );"
   ]
  },
  {
   "cell_type": "markdown",
   "metadata": {},
   "source": [
    "> the male riders are almost 3 times the number of female riders"
   ]
  },
  {
   "cell_type": "code",
   "execution_count": null,
   "metadata": {},
   "outputs": [],
   "source": [
    "sb.barplot(data=df , x = 'member_gender' , y = 'duration_sec' , hue = 'bike_share_for_all_trip',estimator= sum );"
   ]
  },
  {
   "cell_type": "markdown",
   "metadata": {},
   "source": [
    "we can see from the chart that the majoirty do not use the bike share for all trip"
   ]
  },
  {
   "cell_type": "code",
   "execution_count": null,
   "metadata": {},
   "outputs": [],
   "source": [
    "base_color= sb.color_palette()[0]\n",
    "sb.countplot(data= df , x='day' , color= base_color)\n",
    "sb.set(font_scale=0.90)\n",
    "plt.title('distrubtion', size=13)\n",
    "plt.xlabel('days')\n",
    "plt.ylabel('count')"
   ]
  },
  {
   "cell_type": "markdown",
   "metadata": {},
   "source": [
    ">the day with the most rides are thursdays "
   ]
  },
  {
   "cell_type": "code",
   "execution_count": null,
   "metadata": {},
   "outputs": [],
   "source": []
  },
  {
   "cell_type": "markdown",
   "metadata": {},
   "source": [
    "### Discuss the distribution(s) of your variable(s) of interest. Were there any unusual points? Did you need to perform any transformations?\n",
    "\n",
    "> there is no unusual point form what i have seen \n",
    "\n",
    "### Of the features you investigated, were there any unusual distributions? Did you perform any operations on the data to tidy, adjust, or change the form of the data? If so, why did you do this?\n",
    "\n",
    "> i did change with the age of becuase the null values "
   ]
  },
  {
   "cell_type": "markdown",
   "metadata": {},
   "source": [
    "## Bivariate Exploration\n",
    "\n",
    "> In this section, investigate relationships between pairs of variables in your\n",
    "data. Make sure the variables that you cover here have been introduced in some\n",
    "fashion in the previous section (univariate exploration)."
   ]
  },
  {
   "cell_type": "code",
   "execution_count": null,
   "metadata": {},
   "outputs": [],
   "source": [
    "base_color= sb.color_palette()[0]\n",
    "df.groupby('user_type')['duration_sec'].mean().plot(kind='bar', figsize=(8,5) ,color= base_color)\n",
    "plt.title('Average trip duration per user type')\n",
    "plt.ylabel('Trip duration in minutes')\n",
    "plt.xlabel('user type')\n",
    "plt.xticks(rotation=360);"
   ]
  },
  {
   "cell_type": "markdown",
   "metadata": {},
   "source": [
    "> the customer has more durations than the subscariber  "
   ]
  },
  {
   "cell_type": "code",
   "execution_count": null,
   "metadata": {},
   "outputs": [],
   "source": [
    "df.groupby('user_type')['age'].mean().plot(kind='bar', figsize=(8,5))\n",
    "plt.title('Average age for each user type')\n",
    "plt.ylabel('age ')\n",
    "plt.xlabel('user type')\n",
    "plt.xticks(rotation=360);"
   ]
  },
  {
   "cell_type": "markdown",
   "metadata": {},
   "source": [
    "the customer has a close Average age to the subsciber "
   ]
  },
  {
   "cell_type": "code",
   "execution_count": null,
   "metadata": {},
   "outputs": [],
   "source": [
    "sb.boxplot(data =df, x='user_type', y='duration_sec')\n",
    "plt.ylabel('the duration')\n",
    "plt.xlabel(' the user type')\n",
    "plt.ylim(0,2000)\n"
   ]
  },
  {
   "cell_type": "code",
   "execution_count": null,
   "metadata": {},
   "outputs": [],
   "source": [
    "sb.barplot(data=df , x = 'user_type' , y = 'distance'  , ci= None );"
   ]
  },
  {
   "cell_type": "markdown",
   "metadata": {},
   "source": [
    ">the customer has more avarage distance than the subscriber  "
   ]
  },
  {
   "cell_type": "code",
   "execution_count": null,
   "metadata": {},
   "outputs": [],
   "source": [
    "base_color= sb.color_palette()[0]\n",
    "plt.figure(figsize=[10, 8])\n",
    "sb.violinplot(data = df, x = 'member_gender', y = 'age', color= base_color)\n",
    "plt.title(\"Distribution of Age per Gender\")\n",
    "plt.ylabel(\"Age\")\n",
    "plt.xlabel(\"Gender\")\n",
    "plt.ylim([0,100]);"
   ]
  },
  {
   "cell_type": "markdown",
   "metadata": {},
   "source": [
    ">we can see from the chart the avrage  age for all genders is around 30 years"
   ]
  },
  {
   "cell_type": "code",
   "execution_count": null,
   "metadata": {},
   "outputs": [],
   "source": []
  },
  {
   "cell_type": "markdown",
   "metadata": {},
   "source": [
    "### Talk about some of the relationships you observed in this part of the investigation. How did the feature(s) of interest vary with other features in the dataset?\n",
    "\n",
    "> that all genders has the same avarage age \n",
    "\n",
    "### Did you observe any interesting relationships between the other features (not the main feature(s) of interest)?\n",
    "\n",
    "> i did not find anything other than the main points"
   ]
  },
  {
   "cell_type": "markdown",
   "metadata": {},
   "source": [
    "## Multivariate Exploration\n",
    "\n",
    "> Create plots of three or more variables to investigate your data even\n",
    "further. Make sure that your investigations are justified, and follow from\n",
    "your work in the previous sections."
   ]
  },
  {
   "cell_type": "code",
   "execution_count": null,
   "metadata": {},
   "outputs": [],
   "source": [
    "sb.barplot(data=df , x = 'user_type' , y = 'duration_sec' , hue = 'member_gender' , ci= None, estimator= sum  );"
   ]
  },
  {
   "cell_type": "markdown",
   "metadata": {},
   "source": [
    ">the male has the highest duration of all subscariber and customer "
   ]
  },
  {
   "cell_type": "code",
   "execution_count": null,
   "metadata": {},
   "outputs": [],
   "source": [
    "sb.barplot(data=df , x = 'member_gender' , y = 'duration_sec' , hue = 'bike_share_for_all_trip' , ci= None ,  estimator= sum  );"
   ]
  },
  {
   "cell_type": "markdown",
   "metadata": {},
   "source": [
    ">most  genders dose not the share bike for all trips "
   ]
  },
  {
   "cell_type": "code",
   "execution_count": null,
   "metadata": {},
   "outputs": [],
   "source": [
    "sb.barplot(data=df , x = 'day' , y = 'distance' , hue = 'user_type' , ci= None, estimator= sum  );"
   ]
  },
  {
   "cell_type": "markdown",
   "metadata": {},
   "source": [
    ">the weekdays has longest trips than the weekends "
   ]
  },
  {
   "cell_type": "markdown",
   "metadata": {},
   "source": [
    "### Talk about some of the relationships you observed in this part of the investigation. Were there features that strengthened each other in terms of looking at your feature(s) of interest?\n",
    "\n",
    ">the reastionships i have used day and distacne and user , gender duration bike share for all trips\n",
    "\n",
    "### Were there any interesting or surprising interactions between features?\n",
    "\n",
    "> the chart above shows that the subscarber travels a shorter distance than the consumer."
   ]
  },
  {
   "cell_type": "markdown",
   "metadata": {},
   "source": [
    "## Conclusions\n",
    "\n"
   ]
  },
  {
   "cell_type": "markdown",
   "metadata": {},
   "source": [
    "\n",
    "> Remove all Tips mentioned above, before you convert this notebook to PDF/HTML\n",
    "\n",
    "\n",
    "> At the end of your report, make sure that you export the notebook as an\n",
    "html file from the `File > Download as... > HTML or PDF` menu. Make sure you keep\n",
    "track of where the exported file goes, so you can put it in the same folder\n",
    "as this notebook for project submission. Also, make sure you remove all of\n",
    "the quote-formatted guide notes like this one before you finish your report!\n",
    "\n"
   ]
  },
  {
   "cell_type": "code",
   "execution_count": null,
   "metadata": {},
   "outputs": [],
   "source": []
  }
 ],
 "metadata": {
  "kernelspec": {
   "display_name": "Python 3",
   "language": "python",
   "name": "python3"
  },
  "language_info": {
   "codemirror_mode": {
    "name": "ipython",
    "version": 3
   },
   "file_extension": ".py",
   "mimetype": "text/x-python",
   "name": "python",
   "nbconvert_exporter": "python",
   "pygments_lexer": "ipython3",
   "version": "3.6.3"
  }
 },
 "nbformat": 4,
 "nbformat_minor": 2
}
